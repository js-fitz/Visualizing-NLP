{
 "cells": [
  {
   "cell_type": "code",
   "execution_count": 1,
   "metadata": {},
   "outputs": [],
   "source": [
    "import pandas as pd\n",
    "import praw\n",
    "import requests\n",
    "from bs4 import BeautifulSoup"
   ]
  },
  {
   "cell_type": "markdown",
   "metadata": {},
   "source": [
    "## Get about pages:"
   ]
  },
  {
   "cell_type": "code",
   "execution_count": 2,
   "metadata": {},
   "outputs": [],
   "source": [
    "ss_url = 'https://old.reddit.com/r/SubredditSimulator/comments/3g9ioz/what_is_rsubredditsimulator/' \n",
    "gpt2_url = 'https://old.reddit.com/r/SubSimulatorGPT2/comments/btfhks/what_is_rsubsimulatorgpt2/' "
   ]
  },
  {
   "cell_type": "code",
   "execution_count": 3,
   "metadata": {},
   "outputs": [],
   "source": [
    "user_agent = 'Mozilla/5.0 (Macintosh; Intel Mac OS X x.y; rv:42.0) Gecko/20100101 Firefox/42.0'\n",
    "ss_soup = BeautifulSoup(requests.get(ss_url, headers={'User-Agent': user_agent}).content, 'lxml')\n",
    "gpt2_soup = BeautifulSoup(requests.get(gpt2_url, headers={'User-Agent': user_agent}).content, 'lxml')"
   ]
  },
  {
   "cell_type": "markdown",
   "metadata": {},
   "source": [
    "## Get bots:"
   ]
  },
  {
   "cell_type": "code",
   "execution_count": 4,
   "metadata": {},
   "outputs": [],
   "source": [
    "# get list of bots from about page Soup\n",
    "ss_bots = [i.text[3:] for i in ss_soup.find('table').find_all('a')]\n",
    "gpt2_bots = [i.text[3:] for i in gpt2_soup.find('table').find_all('a')]"
   ]
  },
  {
   "cell_type": "code",
   "execution_count": 5,
   "metadata": {},
   "outputs": [
    {
     "name": "stdout",
     "output_type": "stream",
     "text": [
      "There are 100 bots in SubredditSimulator.\n",
      "There are 130 bots in SubSimulatorGPT2.\n"
     ]
    }
   ],
   "source": [
    "print('There are {} bots in SubredditSimulator.'.format(len(ss_bots)))\n",
    "print('There are {} bots in SubSimulatorGPT2.'.format(len(gpt2_bots)))"
   ]
  },
  {
   "cell_type": "markdown",
   "metadata": {},
   "source": [
    "## Export"
   ]
  },
  {
   "cell_type": "code",
   "execution_count": 9,
   "metadata": {},
   "outputs": [],
   "source": [
    "bots = pd.concat([pd.DataFrame({'ss': ss_bots}), pd.DataFrame({'gp': gpt2_bots})], axis=1)"
   ]
  },
  {
   "cell_type": "code",
   "execution_count": 10,
   "metadata": {},
   "outputs": [],
   "source": [
    "bots.to_csv('data/bots.csv', index=False)"
   ]
  }
 ],
 "metadata": {
  "kernelspec": {
   "display_name": "Python 3",
   "language": "python",
   "name": "python3"
  },
  "language_info": {
   "codemirror_mode": {
    "name": "ipython",
    "version": 3
   },
   "file_extension": ".py",
   "mimetype": "text/x-python",
   "name": "python",
   "nbconvert_exporter": "python",
   "pygments_lexer": "ipython3",
   "version": "3.7.4"
  }
 },
 "nbformat": 4,
 "nbformat_minor": 2
}
