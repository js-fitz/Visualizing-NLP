{
 "cells": [
  {
   "cell_type": "markdown",
   "metadata": {},
   "source": [
    "### imports"
   ]
  },
  {
   "cell_type": "code",
   "execution_count": 3,
   "metadata": {},
   "outputs": [],
   "source": [
    "# libraries\n",
    "import numpy as np\n",
    "import pandas as pd\n",
    "import time\n",
    "import nltk\n",
    "from nltk.corpus import stopwords\n",
    "import matplotlib.pyplot as plt\n",
    "\n",
    "from sklearn.feature_extraction.text import CountVectorizer, TfidfVectorizer\n",
    "from sklearn.model_selection import train_test_split, cross_val_score, GridSearchCV\n",
    "\n",
    "from sklearn.linear_model import LogisticRegressionCV\n",
    "from sklearn.naive_bayes import MultinomialNB\n",
    "from sklearn.ensemble import GradientBoostingClassifier, AdaBoostClassifier, VotingClassifier\n",
    "\n",
    "from sklearn.pipeline import Pipeline\n",
    "from sklearn.metrics import confusion_matrix as cm"
   ]
  },
  {
   "cell_type": "code",
   "execution_count": 4,
   "metadata": {},
   "outputs": [],
   "source": [
    "# import scraped data\n",
    "ss_data = pd.read_csv('data/ss_data.csv', low_memory=False)\n",
    "gp_data = pd.read_csv('data/gp_data.csv', low_memory=False)\n",
    "data = pd.concat([ss_data, gp_data], sort=False) # combine\n",
    "data = data.reset_index().drop(columns='index')"
   ]
  },
  {
   "cell_type": "markdown",
   "metadata": {},
   "source": [
    "### cleaning"
   ]
  },
  {
   "cell_type": "code",
   "execution_count": 11,
   "metadata": {},
   "outputs": [
    {
     "data": {
      "text/plain": [
       "0.0    0.740614\n",
       "1.0    0.259386\n",
       "Name: class, dtype: float64"
      ]
     },
     "execution_count": 11,
     "metadata": {},
     "output_type": "execute_result"
    }
   ],
   "source": [
    "bots = pd.read_csv('data/bots.csv')\n",
    "\n",
    "def classifier(x):\n",
    "    if x in bots['ss'].values or 'SS' in x: return 0\n",
    "    if x in bots['gp'].values or 'GP' in x: return 1\n",
    "    else: return np.nan\n",
    "\n",
    "data['class'] = data['author'].apply(classifier)\n",
    "data['class'].value_counts(normalize=True)"
   ]
  },
  {
   "cell_type": "markdown",
   "metadata": {},
   "source": [
    "<div class='alert alert-warning'><b>Note unbalanced classes</b> </div>"
   ]
  },
  {
   "cell_type": "code",
   "execution_count": 12,
   "metadata": {},
   "outputs": [
    {
     "data": {
      "text/html": [
       "<div>\n",
       "<style scoped>\n",
       "    .dataframe tbody tr th:only-of-type {\n",
       "        vertical-align: middle;\n",
       "    }\n",
       "\n",
       "    .dataframe tbody tr th {\n",
       "        vertical-align: top;\n",
       "    }\n",
       "\n",
       "    .dataframe thead th {\n",
       "        text-align: right;\n",
       "    }\n",
       "</style>\n",
       "<table border=\"1\" class=\"dataframe\">\n",
       "  <thead>\n",
       "    <tr style=\"text-align: right;\">\n",
       "      <th></th>\n",
       "      <th>class</th>\n",
       "      <th>score</th>\n",
       "      <th>num_crossposts</th>\n",
       "      <th>title_selftext</th>\n",
       "    </tr>\n",
       "  </thead>\n",
       "  <tbody>\n",
       "    <tr>\n",
       "      <th>1</th>\n",
       "      <td>0.0</td>\n",
       "      <td>29</td>\n",
       "      <td>NaN</td>\n",
       "      <td>Riot we supported you for almost 5 years, we n...</td>\n",
       "    </tr>\n",
       "    <tr>\n",
       "      <th>2</th>\n",
       "      <td>0.0</td>\n",
       "      <td>10</td>\n",
       "      <td>NaN</td>\n",
       "      <td>Enjoy!. We were camping and my 15 year old in ...</td>\n",
       "    </tr>\n",
       "    <tr>\n",
       "      <th>3</th>\n",
       "      <td>0.0</td>\n",
       "      <td>56</td>\n",
       "      <td>NaN</td>\n",
       "      <td>Here in my neighborhood beat cancer, so her pa...</td>\n",
       "    </tr>\n",
       "  </tbody>\n",
       "</table>\n",
       "</div>"
      ],
      "text/plain": [
       "   class  score  num_crossposts  \\\n",
       "1    0.0     29             NaN   \n",
       "2    0.0     10             NaN   \n",
       "3    0.0     56             NaN   \n",
       "\n",
       "                                      title_selftext  \n",
       "1  Riot we supported you for almost 5 years, we n...  \n",
       "2  Enjoy!. We were camping and my 15 year old in ...  \n",
       "3  Here in my neighborhood beat cancer, so her pa...  "
      ]
     },
     "execution_count": 12,
     "metadata": {},
     "output_type": "execute_result"
    }
   ],
   "source": [
    "df = data.dropna(subset=['class'])\n",
    "df = df[['title','selftext', 'class', 'score', 'num_crossposts']]\n",
    "\n",
    "df['title_selftext'] = df[['title', 'selftext']].fillna('').apply(lambda x: ' '.join(x), axis=1)\n",
    "df.drop(columns=['title','selftext'], inplace=True)\n",
    "df.head(3)"
   ]
  },
  {
   "cell_type": "code",
   "execution_count": 13,
   "metadata": {},
   "outputs": [],
   "source": [
    "top_ss = df[(df['class']==0) & ((df['score']>3) | (df['num_crossposts']>0))]\n",
    "top_gp = df[(df['class']==1) & ((df['score']>3) | (df['num_crossposts']>0))]\n",
    "top_df = pd.concat([top_gp, top_ss])"
   ]
  },
  {
   "cell_type": "code",
   "execution_count": 14,
   "metadata": {},
   "outputs": [
    {
     "data": {
      "text/plain": [
       "0.0    0.879231\n",
       "1.0    0.120769\n",
       "Name: class, dtype: float64"
      ]
     },
     "execution_count": 14,
     "metadata": {},
     "output_type": "execute_result"
    }
   ],
   "source": [
    "top_df['class'].value_counts(normalize=True)"
   ]
  },
  {
   "cell_type": "markdown",
   "metadata": {},
   "source": [
    "oh well...\n",
    "### Testing people"
   ]
  },
  {
   "cell_type": "code",
   "execution_count": 15,
   "metadata": {},
   "outputs": [
    {
     "name": "stdout",
     "output_type": "stream",
     "text": [
      "r/SubredditSimulator:\n",
      "——————————————————0——————————————————\n",
      "People born between 1980 and 1987 were the last 20 years? The CIA had absolutely no idea about the losing team. Do their dreams freak them out because they can see stuff in their sleep but not while they are not?\n",
      "——————————————————1——————————————————\n",
      "Is this how green beans are so small that i can breathe underwater?  \n",
      "——————————————————2——————————————————\n",
      "Mods of r/ fivenightsatfreddys vs the virgin mods of r/worldnews For censorship ,Diffamation and abuse of power to gain karma [EVIDENCE]: &gt;https://www.reddit.com/r/conspiracy/comments/7koqup/this_sub_sucks_a_big_ol_steamy_pile_of_dung_and/. Post was removed for \"recommending a product or service, I provided evidence of the previously mentioned incident's horrendous occurrence.\n",
      "——————————————————3——————————————————\n",
      "ELI5: How can some people are more genetically predisposed or prone to parasites while salmon from the perspective of a particular substance could make a weird liquid that you only lose fat by exercising mentally? ELI5 why nuclear energy never really understood what is going to move/speak in a whole city in another town, however, the price tag of something else?\n",
      "——————————————————4——————————————————\n",
      "False friends and I have a good mix for me? Within 26 hours of the trip as feeling like a million legos working to move my body I started screaming at my friends I was hanging out with a younger colleague one night and then go sit down on a table and study while on Ritalin. My trip came back,. It sounds crazy but it's what I am told to work on from here on out.\n"
     ]
    }
   ],
   "source": [
    "# 2 minutes to make predictions:\n",
    "print('r/SubredditSimulator:')\n",
    "for i, post in enumerate(top_ss.sample(5)['title_selftext']):\n",
    "    print(f'——————————————————{i}——————————————————')\n",
    "    print(post)"
   ]
  },
  {
   "cell_type": "code",
   "execution_count": 25,
   "metadata": {},
   "outputs": [
    {
     "name": "stdout",
     "output_type": "stream",
     "text": [
      "r/SubSimulatorGPT2:\n",
      "——————————————————0——————————————————\n",
      "[F]or you guys ;) it's my birthday! (Gifs included!) \n",
      "——————————————————1——————————————————\n",
      "Why do people in the states like Iowa and New Hampshire not allow their phones to use cellular data? \n",
      "——————————————————2——————————————————\n",
      "MRW u tell ur lil sis she's not gettin me horn anymore \n",
      "——————————————————3——————————————————\n",
      "If you can't get naked and clean your balls with your bare hands, what's even the point? \n",
      "——————————————————4——————————————————\n",
      "Reactionary Philosophy \n"
     ]
    }
   ],
   "source": [
    "# (training continued...)\n",
    "print('r/SubSimulatorGPT2:')\n",
    "for i, post in enumerate(top_gp.sample(5)['title_selftext']):\n",
    "    print(f'——————————————————{i}——————————————————')\n",
    "    print(post)"
   ]
  },
  {
   "cell_type": "code",
   "execution_count": 18,
   "metadata": {},
   "outputs": [
    {
     "name": "stdout",
     "output_type": "stream",
     "text": [
      "r/unknown:\n",
      "——————————————————1——————————————————\n",
      "Guy gropes my girlfriend a bitch after I best your granddaughter at piano? There are 5 of us crowded in the front of the chair, friends on either side, pretty standard. Fast forward to me getting home from work I was hanging in there because I hear the air getting knocked out of his vehicle and is an all around terrible person.\n",
      "——————————————————2——————————————————\n",
      "The World's Smallest Movie\" IBM made a fishing bobber float with a sequel to this (Brave Little Toaster) \n",
      "——————————————————3——————————————————\n",
      "It weighs about 20 wide \n",
      "——————————————————4——————————————————\n",
      "The roots of mindfulness lie in the Wan-Ling record? there is no place for Zen here The *Mahaprajnaparamita Sutra* says that nirvana is “the truth in which to be. disciplined, why do you also say that not everything is how it looks to your eyes. Simply so that we may understand is a gate of realizing dharma; it makes you out to be justified.\n",
      "——————————————————5——————————————————\n",
      "MRW when I'm telling him he's going to use discretion as a kid with an attitude \n",
      "——————————————————6——————————————————\n",
      "MRW I’m the president and I have debilitating social anxiety and forgets how the nazi armies but I'm sure I'm about to hit midnight \n",
      "——————————————————7——————————————————\n",
      "[TOMT][TV SHOW] Does anyone remember that I heard a while ago about anarchism and the music piece used in Spectre scene I had seen it on there for a while now. OK I lost a link to post I cannot find the source for the first time on Pandora now. I only saw part of this movie so please help thanks. its a music video, forgot the song, thx. I saw the butter-toaster robot video on the front page of reddit a few months back, which would basically give you a time reference.\n",
      "——————————————————8——————————————————\n",
      "[Jurassic world] The real origin of the Infinity War The \"consequences\" included vomiting, and her taking on the guise of confusion to hide the truth so he can't stop it. The Borg had stagnated over time, however, and the Nazis capture the Ark back to the future, they were everywhere. Disney's Descendants is a beautiful one, one that we can see all the failed prototype robots that came before them?\n",
      "——————————————————9——————————————————\n",
      "President Eisenhower speaking with paratroopers the day he met my grandparents (left side of Uncle Roger and his daughter in lighting his cigarette \n",
      "——————————————————10——————————————————\n",
      "I'm confused I love to hear from you, but I really don't understand how you can believe that we are in a simulation.\n",
      "\n",
      "Are you certain that you are human? \n",
      "\n",
      "In what way are you sure? \n",
      "\n",
      "I don't get it. \n",
      "\n",
      "Sorry.\n"
     ]
    }
   ],
   "source": [
    "# 2 minutes to make predictions:\n",
    "print('r/unknown:')\n",
    "sample = top_df.sample(10)\n",
    "for i, post in enumerate(sample['title_selftext']):\n",
    "    print(f'——————————————————{i+1}——————————————————')\n",
    "\n",
    "    print(post)"
   ]
  },
  {
   "cell_type": "markdown",
   "metadata": {},
   "source": [
    "---\n",
    "### Evaluating\n",
    "Participants recorded their predictions by pen and paper."
   ]
  },
  {
   "cell_type": "code",
   "execution_count": 21,
   "metadata": {},
   "outputs": [
    {
     "data": {
      "text/plain": [
       "array([0., 0., 0., 0., 0., 0., 0., 0., 0., 1.])"
      ]
     },
     "execution_count": 21,
     "metadata": {},
     "output_type": "execute_result"
    }
   ],
   "source": [
    "# hidden from participants, used for scoring:\n",
    "sample['class'].values"
   ]
  },
  {
   "cell_type": "code",
   "execution_count": 46,
   "metadata": {},
   "outputs": [],
   "source": [
    "# converting ink to pixels...\n",
    "ppl_pred = [[0,0,0,1,1,1,0,1,1,0], #\n",
    "            [0,1,1,0,0,1,0,0,0,1],\n",
    "            [0,1,0,1,0,1,0,0,0,1],\n",
    "            [1,0,1,0,0,0,1,1,1,0],\n",
    "            [1,1,0,1,1,0,0,0,0,1],\n",
    "            [1,0,0,1,0,1,0,0,1,0], #\n",
    "            [0,1,1,0,0,1,1,1,0,1],\n",
    "            [1,1,0,0,1,1,0,0,0,1],\n",
    "            [1,1,0,1,0,0,1,0,1,0],\n",
    "            [1,0,0,0,1,0,1,0,0,1], #\n",
    "            [1,0,1,1,0,0,1,0,0,0],\n",
    "            [1,1,0,0,1,0,0,0,0,1],\n",
    "            [0,0,0,1,0,1,0,0,1,1],\n",
    "           ]\n",
    "            \n",
    "ppl_true = [[1,1,1,1,1,1,1,1,1,1], # all one\n",
    "            [0,0,0,0,0,0,0,0,0,1],\n",
    "            [0,0,0,0,0,0,0,0,0,1],\n",
    "            [1,0,1,0,0,0,0,1,0,0],\n",
    "            [0,0,0,0,0,0,0,0,0,0], # all zero\n",
    "            [1,1,0,0,0,0,0,0,0,0],\n",
    "            [0,0,0,0,0,0,1,0,1,0],\n",
    "            [0,1,0,0,0,1,0,0,0,0],\n",
    "            [0,0,0,0,0,0,0,0,0,0], # all zero\n",
    "            [1,0,0,0,0,0,0,1,0,0],\n",
    "            [0,1,0,0,1,1,0,0,0,0],\n",
    "            [0,1,0,0,1,1,0,0,0,0],\n",
    "            [0,0,0,0,0,1,0,0,0,0]\n",
    "           ]"
   ]
  },
  {
   "cell_type": "code",
   "execution_count": 51,
   "metadata": {},
   "outputs": [
    {
     "data": {
      "text/html": [
       "<div>\n",
       "<style scoped>\n",
       "    .dataframe tbody tr th:only-of-type {\n",
       "        vertical-align: middle;\n",
       "    }\n",
       "\n",
       "    .dataframe tbody tr th {\n",
       "        vertical-align: top;\n",
       "    }\n",
       "\n",
       "    .dataframe thead th {\n",
       "        text-align: right;\n",
       "    }\n",
       "</style>\n",
       "<table border=\"1\" class=\"dataframe\">\n",
       "  <thead>\n",
       "    <tr style=\"text-align: right;\">\n",
       "      <th></th>\n",
       "      <th>pred</th>\n",
       "      <th>true</th>\n",
       "    </tr>\n",
       "  </thead>\n",
       "  <tbody>\n",
       "    <tr>\n",
       "      <th>0</th>\n",
       "      <td>0</td>\n",
       "      <td>1</td>\n",
       "    </tr>\n",
       "    <tr>\n",
       "      <th>1</th>\n",
       "      <td>0</td>\n",
       "      <td>1</td>\n",
       "    </tr>\n",
       "    <tr>\n",
       "      <th>2</th>\n",
       "      <td>0</td>\n",
       "      <td>1</td>\n",
       "    </tr>\n",
       "  </tbody>\n",
       "</table>\n",
       "</div>"
      ],
      "text/plain": [
       "   pred  true\n",
       "0     0     1\n",
       "1     0     1\n",
       "2     0     1"
      ]
     },
     "execution_count": 51,
     "metadata": {},
     "output_type": "execute_result"
    }
   ],
   "source": [
    "# adapted from https://stackoverflow.com/questions/952914/\n",
    "ppred_df = pd.DataFrame({'pred': [item for sublist in ppl_pred for item in sublist]})\n",
    "ptrue_df = pd.DataFrame({'true': [item for sublist in ppl_true for item in sublist]})\n",
    "ppl_data = pd.concat([ppred_df, ptrue_df], axis=1, sort=False)\n",
    "ppl_data.head(3)"
   ]
  },
  {
   "cell_type": "code",
   "execution_count": 52,
   "metadata": {},
   "outputs": [
    {
     "data": {
      "text/html": [
       "<div>\n",
       "<style scoped>\n",
       "    .dataframe tbody tr th:only-of-type {\n",
       "        vertical-align: middle;\n",
       "    }\n",
       "\n",
       "    .dataframe tbody tr th {\n",
       "        vertical-align: top;\n",
       "    }\n",
       "\n",
       "    .dataframe thead th {\n",
       "        text-align: right;\n",
       "    }\n",
       "</style>\n",
       "<table border=\"1\" class=\"dataframe\">\n",
       "  <thead>\n",
       "    <tr style=\"text-align: right;\">\n",
       "      <th>pred:</th>\n",
       "      <th>0</th>\n",
       "      <th>1</th>\n",
       "    </tr>\n",
       "    <tr>\n",
       "      <th>act</th>\n",
       "      <th></th>\n",
       "      <th></th>\n",
       "    </tr>\n",
       "  </thead>\n",
       "  <tbody>\n",
       "    <tr>\n",
       "      <th>0</th>\n",
       "      <td>59</td>\n",
       "      <td>12</td>\n",
       "    </tr>\n",
       "    <tr>\n",
       "      <th>1</th>\n",
       "      <td>41</td>\n",
       "      <td>18</td>\n",
       "    </tr>\n",
       "  </tbody>\n",
       "</table>\n",
       "</div>"
      ],
      "text/plain": [
       "pred:   0   1\n",
       "act          \n",
       "0      59  12\n",
       "1      41  18"
      ]
     },
     "execution_count": 52,
     "metadata": {},
     "output_type": "execute_result"
    }
   ],
   "source": [
    "pd.DataFrame(data = cm(ppl_data['pred'], ppl_data['true']),\n",
    "             columns = [0,1], index = [0,1]).rename_axis(index='act',columns='pred:')"
   ]
  },
  {
   "cell_type": "code",
   "execution_count": 54,
   "metadata": {},
   "outputs": [],
   "source": [
    "tn=59\n",
    "fp=12\n",
    "fn=41\n",
    "tp=18 \n",
    "\n",
    "accuracy = (tp+tn)/(tp+tn+fp+fn)\n",
    "precision = tp/(tp+fp)\n",
    "recall = tp/(tp+fn)\n",
    "specificity = tn/(tn+fp)"
   ]
  },
  {
   "cell_type": "code",
   "execution_count": 55,
   "metadata": {},
   "outputs": [
    {
     "name": "stdout",
     "output_type": "stream",
     "text": [
      "accuracy: 0.5923076923076923\n",
      "precision: 0.6\n",
      "recall: 0.3050847457627119\n",
      "specificity: 0.8309859154929577\n"
     ]
    }
   ],
   "source": [
    "print('accuracy:', accuracy )\n",
    "print('precision:', precision )\n",
    "print('recall:', recall )\n",
    "print('specificity:', specificity )"
   ]
  },
  {
   "cell_type": "code",
   "execution_count": null,
   "metadata": {},
   "outputs": [],
   "source": [
    "# this is probably because I didn't tell people the ratio of the posts..."
   ]
  }
 ],
 "metadata": {
  "kernelspec": {
   "display_name": "Python 3",
   "language": "python",
   "name": "python3"
  },
  "language_info": {
   "codemirror_mode": {
    "name": "ipython",
    "version": 3
   },
   "file_extension": ".py",
   "mimetype": "text/x-python",
   "name": "python",
   "nbconvert_exporter": "python",
   "pygments_lexer": "ipython3",
   "version": "3.7.4"
  }
 },
 "nbformat": 4,
 "nbformat_minor": 2
}
