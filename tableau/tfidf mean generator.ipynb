{
 "cells": [
  {
   "cell_type": "markdown",
   "metadata": {},
   "source": [
    "### Generate TF-IDF means"
   ]
  },
  {
   "cell_type": "code",
   "execution_count": 68,
   "metadata": {},
   "outputs": [],
   "source": [
    "# libraries\n",
    "import numpy as np\n",
    "import pandas as pd\n",
    "from sklearn.feature_extraction.text import TfidfVectorizer"
   ]
  },
  {
   "cell_type": "code",
   "execution_count": 69,
   "metadata": {},
   "outputs": [],
   "source": [
    "ss_scrape = pd.read_csv('data/ss_scrape.csv')\n",
    "gpt2_scrape = pd.read_csv('data/gpt2_scrape.csv')\n",
    "df_freq = pd.read_csv('data/df_freq.csv')"
   ]
  },
  {
   "cell_type": "code",
   "execution_count": 70,
   "metadata": {},
   "outputs": [],
   "source": [
    "# concat subreddits\n",
    "both_scrape = pd.concat([ss_scrape, gpt2_scrape], sort=False)\n",
    "X = both_scrape['title']\n",
    "y = both_scrape['sr']"
   ]
  },
  {
   "cell_type": "code",
   "execution_count": 71,
   "metadata": {},
   "outputs": [
    {
     "data": {
      "text/html": [
       "<div>\n",
       "<style scoped>\n",
       "    .dataframe tbody tr th:only-of-type {\n",
       "        vertical-align: middle;\n",
       "    }\n",
       "\n",
       "    .dataframe tbody tr th {\n",
       "        vertical-align: top;\n",
       "    }\n",
       "\n",
       "    .dataframe thead th {\n",
       "        text-align: right;\n",
       "    }\n",
       "</style>\n",
       "<table border=\"1\" class=\"dataframe\">\n",
       "  <thead>\n",
       "    <tr style=\"text-align: right;\">\n",
       "      <th></th>\n",
       "      <th>lost</th>\n",
       "      <th>number</th>\n",
       "      <th>m not</th>\n",
       "      <th>does the</th>\n",
       "      <th>create a</th>\n",
       "      <th>upvotes</th>\n",
       "      <th>photo on</th>\n",
       "      <th>calls</th>\n",
       "      <th>tittyfuck bitch shit</th>\n",
       "      <th>in the uk</th>\n",
       "      <th>...</th>\n",
       "      <th>fictional</th>\n",
       "      <th>a slave</th>\n",
       "      <th>computer plz</th>\n",
       "      <th>into a bar</th>\n",
       "      <th>standing</th>\n",
       "      <th>man in a</th>\n",
       "      <th>take a picture</th>\n",
       "      <th>do i get</th>\n",
       "      <th>a dick pic</th>\n",
       "      <th>ate</th>\n",
       "    </tr>\n",
       "  </thead>\n",
       "  <tbody>\n",
       "    <tr>\n",
       "      <th>0</th>\n",
       "      <td>0.0</td>\n",
       "      <td>0.20784</td>\n",
       "      <td>0.0</td>\n",
       "      <td>0.0</td>\n",
       "      <td>0.0</td>\n",
       "      <td>0.0</td>\n",
       "      <td>0.0</td>\n",
       "      <td>0.0</td>\n",
       "      <td>0.0</td>\n",
       "      <td>0.0</td>\n",
       "      <td>...</td>\n",
       "      <td>0.0</td>\n",
       "      <td>0.0</td>\n",
       "      <td>0.0</td>\n",
       "      <td>0.0</td>\n",
       "      <td>0.0</td>\n",
       "      <td>0.0</td>\n",
       "      <td>0.0</td>\n",
       "      <td>0.0</td>\n",
       "      <td>0.0</td>\n",
       "      <td>0.0</td>\n",
       "    </tr>\n",
       "    <tr>\n",
       "      <th>1</th>\n",
       "      <td>0.0</td>\n",
       "      <td>0.00000</td>\n",
       "      <td>0.0</td>\n",
       "      <td>0.0</td>\n",
       "      <td>0.0</td>\n",
       "      <td>0.0</td>\n",
       "      <td>0.0</td>\n",
       "      <td>0.0</td>\n",
       "      <td>0.0</td>\n",
       "      <td>0.0</td>\n",
       "      <td>...</td>\n",
       "      <td>0.0</td>\n",
       "      <td>0.0</td>\n",
       "      <td>0.0</td>\n",
       "      <td>0.0</td>\n",
       "      <td>0.0</td>\n",
       "      <td>0.0</td>\n",
       "      <td>0.0</td>\n",
       "      <td>0.0</td>\n",
       "      <td>0.0</td>\n",
       "      <td>0.0</td>\n",
       "    </tr>\n",
       "    <tr>\n",
       "      <th>2</th>\n",
       "      <td>0.0</td>\n",
       "      <td>0.00000</td>\n",
       "      <td>0.0</td>\n",
       "      <td>0.0</td>\n",
       "      <td>0.0</td>\n",
       "      <td>0.0</td>\n",
       "      <td>0.0</td>\n",
       "      <td>0.0</td>\n",
       "      <td>0.0</td>\n",
       "      <td>0.0</td>\n",
       "      <td>...</td>\n",
       "      <td>0.0</td>\n",
       "      <td>0.0</td>\n",
       "      <td>0.0</td>\n",
       "      <td>0.0</td>\n",
       "      <td>0.0</td>\n",
       "      <td>0.0</td>\n",
       "      <td>0.0</td>\n",
       "      <td>0.0</td>\n",
       "      <td>0.0</td>\n",
       "      <td>0.0</td>\n",
       "    </tr>\n",
       "  </tbody>\n",
       "</table>\n",
       "<p>3 rows × 2311 columns</p>\n",
       "</div>"
      ],
      "text/plain": [
       "   lost   number  m not  does the  create a  upvotes  photo on  calls  \\\n",
       "0   0.0  0.20784    0.0       0.0       0.0      0.0       0.0    0.0   \n",
       "1   0.0  0.00000    0.0       0.0       0.0      0.0       0.0    0.0   \n",
       "2   0.0  0.00000    0.0       0.0       0.0      0.0       0.0    0.0   \n",
       "\n",
       "   tittyfuck bitch shit  in the uk  ...  fictional  a slave  computer plz  \\\n",
       "0                   0.0        0.0  ...        0.0      0.0           0.0   \n",
       "1                   0.0        0.0  ...        0.0      0.0           0.0   \n",
       "2                   0.0        0.0  ...        0.0      0.0           0.0   \n",
       "\n",
       "   into a bar  standing  man in a  take a picture  do i get  a dick pic  ate  \n",
       "0         0.0       0.0       0.0             0.0       0.0         0.0  0.0  \n",
       "1         0.0       0.0       0.0             0.0       0.0         0.0  0.0  \n",
       "2         0.0       0.0       0.0             0.0       0.0         0.0  0.0  \n",
       "\n",
       "[3 rows x 2311 columns]"
      ]
     },
     "execution_count": 71,
     "metadata": {},
     "output_type": "execute_result"
    }
   ],
   "source": [
    "# tf-idf transform\n",
    "tfid = TfidfVectorizer(max_features=15000, ngram_range=(1,3), token_pattern=r'\\b[^\\d\\W]+\\b')\n",
    "X = tfid.fit_transform(X)\n",
    "X = pd.DataFrame(X.toarray(), columns=tfid.get_feature_names())\n",
    "X = X[df_freq['word']]\n",
    "X.head(3)"
   ]
  },
  {
   "cell_type": "code",
   "execution_count": 77,
   "metadata": {},
   "outputs": [],
   "source": [
    "# return top 5 words by tf-idf for document\n",
    "def top_words_in_row(row):\n",
    "    ret = X.loc[row].sort_values(ascending=False)\n",
    "    #ret = ret[ret>.05] # <-- top words = with tf-idf >.05\n",
    "    return ret"
   ]
  },
  {
   "cell_type": "code",
   "execution_count": 79,
   "metadata": {},
   "outputs": [
    {
     "data": {
      "text/plain": [
       "redditors         0.231990\n",
       "common            0.225941\n",
       "reddit what       0.208992\n",
       "of reddit what    0.208992\n",
       "my mom            0.202943\n",
       "bed               0.200287\n",
       "makes             0.197828\n",
       "of reddit         0.191386\n",
       "mom               0.189489\n",
       "what s the        0.187695\n",
       "s the             0.181356\n",
       "what s            0.171452\n",
       "the most          0.168388\n",
       "reddit            0.160596\n",
       "most              0.160596\n",
       "what              0.118701\n",
       "s                 0.103823\n",
       "my                0.092382\n",
       "in                0.087522\n",
       "of                0.080340\n",
       "the               0.065213\n",
       "Name: 4, dtype: float64"
      ]
     },
     "execution_count": 79,
     "metadata": {},
     "output_type": "execute_result"
    }
   ],
   "source": [
    "top_words_in_row(4)[top_words_in_row(4)!=0]"
   ]
  },
  {
   "cell_type": "code",
   "execution_count": 73,
   "metadata": {},
   "outputs": [],
   "source": [
    "tfidf_df = pd.DataFrame()\n",
    "for row in X.index:\n",
    "    row_df = pd.DataFrame(top_words_in_row(row))\n",
    "    tfidf_df = tfidf_df.merge(row_df, how='outer', left_index=True,  right_index=True,)"
   ]
  },
  {
   "cell_type": "code",
   "execution_count": 75,
   "metadata": {},
   "outputs": [],
   "source": [
    "#export\n",
    "tfidf_df.to_csv('data/top_tfidf.csv')"
   ]
  },
  {
   "cell_type": "code",
   "execution_count": null,
   "metadata": {},
   "outputs": [],
   "source": []
  }
 ],
 "metadata": {
  "kernelspec": {
   "display_name": "Python 3",
   "language": "python",
   "name": "python3"
  },
  "language_info": {
   "codemirror_mode": {
    "name": "ipython",
    "version": 3
   },
   "file_extension": ".py",
   "mimetype": "text/x-python",
   "name": "python",
   "nbconvert_exporter": "python",
   "pygments_lexer": "ipython3",
   "version": "3.7.4"
  }
 },
 "nbformat": 4,
 "nbformat_minor": 2
}
