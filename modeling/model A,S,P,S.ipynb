{
 "cells": [
  {
   "cell_type": "code",
   "execution_count": 1,
   "metadata": {},
   "outputs": [],
   "source": [
    "import pandas as pd\n",
    "import matplotlib.pyplot as plt\n",
    "import numpy as np"
   ]
  },
  {
   "cell_type": "code",
   "execution_count": 2,
   "metadata": {},
   "outputs": [],
   "source": [
    "def score():\n",
    "    return {'accuracy': (tp+tn)/(tp+tn+fp+fn),\n",
    "            'precision': tp/(tp+fp),\n",
    "            'recall': tp/(tp+fn),\n",
    "            'specificity': tn/(tn+fp)}"
   ]
  },
  {
   "cell_type": "code",
   "execution_count": 3,
   "metadata": {},
   "outputs": [
    {
     "data": {
      "text/plain": [
       "{'accuracy': 0.5923076923076923,\n",
       " 'precision': 0.6,\n",
       " 'recall': 0.3050847457627119,\n",
       " 'specificity': 0.8309859154929577}"
      ]
     },
     "execution_count": 3,
     "metadata": {},
     "output_type": "execute_result"
    }
   ],
   "source": [
    "# human predictions (n=13) [surveying humans.ipynb]\n",
    "tn=59\n",
    "fp=12\n",
    "fn=41\n",
    "tp=18 \n",
    "ppl_score = score()\n",
    "ppl_score"
   ]
  },
  {
   "cell_type": "code",
   "execution_count": 4,
   "metadata": {},
   "outputs": [
    {
     "data": {
      "text/plain": [
       "{'accuracy': 0.9057039769732842,\n",
       " 'precision': 0.9202059202059202,\n",
       " 'recall': 0.24001342732460557,\n",
       " 'specificity': 0.9971412762818148}"
      ]
     },
     "execution_count": 4,
     "metadata": {},
     "output_type": "execute_result"
    }
   ],
   "source": [
    "# with unbalanced classes (~8:2)\n",
    "tn=21626\n",
    "fp=62\n",
    "fn=2264\n",
    "tp=715\n",
    "unbalanced_mnb = score()\n",
    "unbalanced_mnb"
   ]
  },
  {
   "cell_type": "code",
   "execution_count": 5,
   "metadata": {},
   "outputs": [
    {
     "data": {
      "text/plain": [
       "{'accuracy': 0.7622033139274519,\n",
       " 'precision': 0.737417943107221,\n",
       " 'recall': 0.4505347593582888,\n",
       " 'specificity': 0.9191919191919192}"
      ]
     },
     "execution_count": 5,
     "metadata": {},
     "output_type": "execute_result"
    }
   ],
   "source": [
    "# max_features=10000\n",
    "\n",
    "# balanced classes[balanced modeling all.ipynb]\n",
    "tn=1365\n",
    "fp=120\n",
    "fn=411\n",
    "tp=337\n",
    "balanced_mnb = score()\n",
    "balanced_mnb"
   ]
  },
  {
   "cell_type": "code",
   "execution_count": 25,
   "metadata": {},
   "outputs": [
    {
     "data": {
      "text/plain": [
       "{'accuracy': 0.7491794141326562,\n",
       " 'precision': 0.7770297562946008,\n",
       " 'recall': 0.7067973055725658,\n",
       " 'specificity': 0.7925331996993235}"
      ]
     },
     "execution_count": 25,
     "metadata": {},
     "output_type": "execute_result"
    }
   ],
   "source": [
    "# with balanced classes (bootstrapped)\n",
    "tn=6326\n",
    "fp=1656\n",
    "fn=2394\n",
    "tp=5771\n",
    "mnb_bootstrap = score()\n",
    "mnb_bootstrap"
   ]
  },
  {
   "cell_type": "code",
   "execution_count": 26,
   "metadata": {},
   "outputs": [
    {
     "data": {
      "text/plain": [
       "{'accuracy': 0.7911153119092628,\n",
       " 'precision': 0.7740894421392347,\n",
       " 'recall': 0.8099372889532079,\n",
       " 'specificity': 0.7730430754979157}"
      ]
     },
     "execution_count": 26,
     "metadata": {},
     "output_type": "execute_result"
    }
   ],
   "source": [
    "# with balanced classes (bootstrapped) + >3 score (human votes)\n",
    "tn=1669\n",
    "fp=490\n",
    "fn=394\n",
    "tp=1679\n",
    "mnb_boot_voted = score()\n",
    "mnb_boot_voted"
   ]
  },
  {
   "cell_type": "code",
   "execution_count": 31,
   "metadata": {},
   "outputs": [],
   "source": [
    "all_scores = {\n",
    "    'People (unbal)': ppl_score,\n",
    "    'MnNB (unbal)': unbalanced_mnb,\n",
    "    'MnNB  (bal)': balanced_mnb,\n",
    "    'MnNB (boot)': mnb_bootstrap,\n",
    "    'MnNB (boot+vote)':mnb_boot_voted,}"
   ]
  },
  {
   "cell_type": "code",
   "execution_count": 32,
   "metadata": {},
   "outputs": [
    {
     "data": {
      "text/html": [
       "<div>\n",
       "<style scoped>\n",
       "    .dataframe tbody tr th:only-of-type {\n",
       "        vertical-align: middle;\n",
       "    }\n",
       "\n",
       "    .dataframe tbody tr th {\n",
       "        vertical-align: top;\n",
       "    }\n",
       "\n",
       "    .dataframe thead th {\n",
       "        text-align: right;\n",
       "    }\n",
       "</style>\n",
       "<table border=\"1\" class=\"dataframe\">\n",
       "  <thead>\n",
       "    <tr style=\"text-align: right;\">\n",
       "      <th></th>\n",
       "      <th>test</th>\n",
       "      <th>People (unbal)</th>\n",
       "      <th>MnNB (unbal)</th>\n",
       "      <th>MnNB  (bal)</th>\n",
       "      <th>MnNB (boot)</th>\n",
       "      <th>MnNB (boot+vote)</th>\n",
       "    </tr>\n",
       "  </thead>\n",
       "  <tbody>\n",
       "    <tr>\n",
       "      <th>0</th>\n",
       "      <td>accuracy</td>\n",
       "      <td>0.592308</td>\n",
       "      <td>0.905704</td>\n",
       "      <td>0.762203</td>\n",
       "      <td>0.749179</td>\n",
       "      <td>0.791115</td>\n",
       "    </tr>\n",
       "    <tr>\n",
       "      <th>1</th>\n",
       "      <td>precision</td>\n",
       "      <td>0.600000</td>\n",
       "      <td>0.920206</td>\n",
       "      <td>0.737418</td>\n",
       "      <td>0.777030</td>\n",
       "      <td>0.774089</td>\n",
       "    </tr>\n",
       "    <tr>\n",
       "      <th>2</th>\n",
       "      <td>recall</td>\n",
       "      <td>0.305085</td>\n",
       "      <td>0.240013</td>\n",
       "      <td>0.450535</td>\n",
       "      <td>0.706797</td>\n",
       "      <td>0.809937</td>\n",
       "    </tr>\n",
       "    <tr>\n",
       "      <th>3</th>\n",
       "      <td>specificity</td>\n",
       "      <td>0.830986</td>\n",
       "      <td>0.997141</td>\n",
       "      <td>0.919192</td>\n",
       "      <td>0.792533</td>\n",
       "      <td>0.773043</td>\n",
       "    </tr>\n",
       "  </tbody>\n",
       "</table>\n",
       "</div>"
      ],
      "text/plain": [
       "          test  People (unbal)  MnNB (unbal)  MnNB  (bal)  MnNB (boot)  \\\n",
       "0     accuracy        0.592308      0.905704     0.762203     0.749179   \n",
       "1    precision        0.600000      0.920206     0.737418     0.777030   \n",
       "2       recall        0.305085      0.240013     0.450535     0.706797   \n",
       "3  specificity        0.830986      0.997141     0.919192     0.792533   \n",
       "\n",
       "   MnNB (boot+vote)  \n",
       "0          0.791115  \n",
       "1          0.774089  \n",
       "2          0.809937  \n",
       "3          0.773043  "
      ]
     },
     "execution_count": 32,
     "metadata": {},
     "output_type": "execute_result"
    }
   ],
   "source": [
    "import pandas as pd\n",
    "df = pd.DataFrame(all_scores).reset_index().rename(columns={'index':'test'})\n",
    "df"
   ]
  },
  {
   "cell_type": "code",
   "execution_count": 33,
   "metadata": {},
   "outputs": [],
   "source": [
    "df.to_csv('data/comparing_predictors.csv')"
   ]
  },
  {
   "cell_type": "code",
   "execution_count": null,
   "metadata": {},
   "outputs": [],
   "source": []
  }
 ],
 "metadata": {
  "kernelspec": {
   "display_name": "Python 3",
   "language": "python",
   "name": "python3"
  },
  "language_info": {
   "codemirror_mode": {
    "name": "ipython",
    "version": 3
   },
   "file_extension": ".py",
   "mimetype": "text/x-python",
   "name": "python",
   "nbconvert_exporter": "python",
   "pygments_lexer": "ipython3",
   "version": "3.7.5"
  }
 },
 "nbformat": 4,
 "nbformat_minor": 2
}
