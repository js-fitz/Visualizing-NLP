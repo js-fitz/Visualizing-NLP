{
 "cells": [
  {
   "cell_type": "markdown",
   "metadata": {},
   "source": [
    "### Scraping with `praw`"
   ]
  },
  {
   "cell_type": "code",
   "execution_count": 1,
   "metadata": {},
   "outputs": [],
   "source": [
    "import numpy as np\n",
    "import pandas as pd\n",
    "import praw\n",
    "import nltk\n",
    "from nltk.corpus import stopwords"
   ]
  },
  {
   "cell_type": "code",
   "execution_count": 2,
   "metadata": {},
   "outputs": [],
   "source": [
    "# instantiate praw\n",
    "reddit = praw.Reddit(client_id='aM6C-FBIAoIuIg',\n",
    "                     client_secret='LRdCjnPKZ0HCc-73ud7MEZynFS0',\n",
    "                     user_agent='scraper',\n",
    "                     username='joescraper',\n",
    "                     password='dsi10scraper')"
   ]
  },
  {
   "cell_type": "code",
   "execution_count": 3,
   "metadata": {},
   "outputs": [],
   "source": [
    "# import subreddits\n",
    "subreddit_simulator = reddit.subreddit('SubredditSimulator')\n",
    "sub_simulator_gpt2 = reddit.subreddit('SubSimulatorGPT2')"
   ]
  },
  {
   "cell_type": "code",
   "execution_count": 4,
   "metadata": {},
   "outputs": [],
   "source": [
    "# make df for ss\n",
    "ss_posts = []\n",
    "for post in subreddit_simulator.top(limit=1000):\n",
    "    row = {'title':  post.title,\n",
    "           'sr': 0 }\n",
    "    ss_posts.append(row)\n",
    "ss_scrape = pd.DataFrame(ss_posts)"
   ]
  },
  {
   "cell_type": "code",
   "execution_count": 5,
   "metadata": {},
   "outputs": [],
   "source": [
    "# make df for gpt2\n",
    "gpt2_posts = []\n",
    "for post in sub_simulator_gpt2.top(limit=1000):\n",
    "    row = {'title': post.title,\n",
    "           'sr': 1 }\n",
    "    gpt2_posts.append(row)\n",
    "gpt2_scrape = pd.DataFrame(gpt2_posts)"
   ]
  },
  {
   "cell_type": "code",
   "execution_count": 6,
   "metadata": {},
   "outputs": [],
   "source": [
    "#export\n",
    "ss_scrape.to_csv('data/ss_scrape_praw.csv', index=False)\n",
    "gpt2_scrape.to_csv('data/gpt2_scrape_praw.csv', index=False)"
   ]
  },
  {
   "cell_type": "code",
   "execution_count": null,
   "metadata": {},
   "outputs": [],
   "source": []
  }
 ],
 "metadata": {
  "kernelspec": {
   "display_name": "Python 3",
   "language": "python",
   "name": "python3"
  },
  "language_info": {
   "codemirror_mode": {
    "name": "ipython",
    "version": 3
   },
   "file_extension": ".py",
   "mimetype": "text/x-python",
   "name": "python",
   "nbconvert_exporter": "python",
   "pygments_lexer": "ipython3",
   "version": "3.7.4"
  }
 },
 "nbformat": 4,
 "nbformat_minor": 2
}
